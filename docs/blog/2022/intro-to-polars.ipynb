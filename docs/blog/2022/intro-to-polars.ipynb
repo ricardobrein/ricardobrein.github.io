{
 "cells": [
  {
   "cell_type": "markdown",
   "id": "6e316a83",
   "metadata": {},
   "source": [
    "# **Polars**\n",
    "\n",
    "[![Colab](https://colab.research.google.com/assets/colab-badge.svg)](https://colab.research.google.com/drive/1CzmrKpNn1JQ6uRlwXqNSZgUK-yJ4Xo3B?usp=sharing)\n",
    "\n",
    "\n",
    "## Introducción a [Polars](https://pola-rs.github.io/polars-book/user-guide/) ¿Es una buena alternativa a Pandas?\n",
    "\n",
    "Polars es una librería para manipular datos especificamente `DataFrames` increíblemente rápida, ha sido implementada en Rust utilizando `Arrow Columnar Format` de Apache como modelo de memoria.\n",
    "\n",
    "Lazy | eager execution\n",
    "Multi-threaded\n",
    "SIMD (Single Instruction, Multiple Data)\n",
    "Query optimization\n",
    "Powerful expression API\n",
    "Rust | Python | ...\n",
    "\n",
    "⚠️Nota: Si no estas familiarizado con la manipulación de datos en Python, te recomiendo empezar leyendo sobre la librería [`Pandas`](https://pandas.pydata.org/docs/), es realmente más facil y podras comprender los principios. También, te dejo como referencia el [Curso de manipulación de datos: Data science autodidacta]\n",
    "\n",
    "> *Este blog tiene como objetivo presentarle Polars🐻‍❄️ a través de ejemplos y comparándolo con otras soluciones.*"
   ]
  },
  {
   "cell_type": "markdown",
   "id": "f7496868",
   "metadata": {},
   "source": [
    "## **Primeros Pasos**\n",
    "\n",
    "### 1. Instalación\n",
    "\n",
    "Para instalar **Polars**, necesitars usar la línea de comando, cmd o si has instalado conda, puedes usar:\n",
    "\n",
    "```\n",
    "conda install -c conda-forge polars\n",
    "```\n",
    "\n",
    "Instalación con pip:\n",
    "\n",
    "\n",
    "```\n",
    "pip install polars\n",
    "```\n",
    "\n",
    "> **Nota**: Polars utiliza versiones de Python v3.6+."
   ]
  },
  {
   "cell_type": "markdown",
   "id": "396d8deb",
   "metadata": {},
   "source": [
    "## **Rendimiento frente a otras librerías**\n",
    "**Polars** es muy rápido y, de hecho, es una de las mejores librerias para manejar datos disponibles. Tomemos como referencia [Database-like ops benchmark](https://h2oai.github.io/db-benchmark/) de h2oai. Esta página *compara* varias herramientas similares, en este caso de bases de datos, y que sean populares en `Data science` y de código abierto. **Ejecuta las últimas versiones de estos paquetes y se actualiza automáticamente.**\n",
    "\n",
    "También se incluye la sintaxis que se cronometra junto con el tiempo. De esta manera, puede ver de inmediato si está realizando estas tareas o no, y si las diferencias de tiempo le importan o no. Una diferencia de 10x puede ser irrelevante si eso es solo 1s frente a 0,1s en el tamaño de sus datos.\n",
    "\n",
    "**A modo de ejemplo**, veamos algunos ejemplos de *performances* de distintas librerías para ejecutar distintas tareas sobre datasets de distintos tamaños. Para el caso de tareas básicas sobre un dataset de **50 GB**, *Polars* supera a librerías espacializadas en distribución de Dataframes como *Spark* (143 segundos vs 568 segundos). Por otro lado, librerías conocidas en Python como *Pandas* o *Dask* tienen el problema de **out of memory**.\n",
    "\n",
    "![](https://h2oai.github.io/db-benchmark/groupby/G1_1e9_1e2_0_0_basic.png)"
   ]
  },
  {
   "cell_type": "markdown",
   "id": "80b88a0c",
   "metadata": {},
   "source": [
    "## **Expresiones en Polars.**\n",
    "\n",
    "Polars tiene un hermoso concepto llamado `expresiones`. Las expresiones polares se pueden usar en varios contextos y son un mapeo funcional de `Fn(Series) -> Series`, lo que significa que tienen `Series` como entrada y `Series` como salida. Al observar esta definición funcional, podemos ver que la salida de un `Expr` también puede servir como entrada de un `Expr`.\n",
    "\n",
    "> Eso puede sonar un poco extraño, así que vamos a dar un ejemplo.\n",
    "\n",
    "La siguiente es una expresión:\n",
    "\n",
    "```python\n",
    "pl.col(\"foo\").sort().head(2)\n",
    "```\n",
    "\n",
    "El fragmento anterior dice seleccionar la columna `\"foo\"`, luego ordenar esta columna y luego tomar los primeros 2 valores de la salida ordenada. El poder de las expresiones es que cada expresión produce una nueva expresión y que se pueden canalizar juntas. Puede ejecutar una expresión pasándola en uno de los contextos de ejecución polares. Aquí ejecutamos dos expresiones ejecutando `df.select`:\n",
    "\n",
    "```python\n",
    "df.select([\n",
    "     pl.col(\"foo\").sort().head(2),\n",
    "     pl.col(\"barra\").filter(pl.col(\"foo\") == 1).sum()\n",
    "])\n",
    "```\n",
    "\n",
    "Todas las expresiones se ejecutan en paralelo. (Tenga en cuenta que dentro de una expresión puede haber más paralelización)."
   ]
  },
  {
   "cell_type": "markdown",
   "id": "678ba0a2",
   "metadata": {},
   "source": [
    "## **Otras Expresiones**\n",
    "\n",
    "En esta sección veremos algunos ejemplos, pero primero vamos a crear un conjunto de datos:"
   ]
  },
  {
   "cell_type": "code",
   "execution_count": 1,
   "id": "6e17c2a9",
   "metadata": {},
   "outputs": [],
   "source": [
    "import polars as pl\n",
    "import numpy as np"
   ]
  },
  {
   "cell_type": "code",
   "execution_count": 2,
   "id": "75967d0a",
   "metadata": {},
   "outputs": [
    {
     "name": "stdout",
     "output_type": "stream",
     "text": [
      "shape: (5, 4)\n",
      "┌──────┬───────┬──────────┬────────┐\n",
      "│ nrs  ┆ names ┆ random   ┆ groups │\n",
      "│ ---  ┆ ---   ┆ ---      ┆ ---    │\n",
      "│ i64  ┆ str   ┆ f64      ┆ str    │\n",
      "╞══════╪═══════╪══════════╪════════╡\n",
      "│ 1    ┆ foo   ┆ 0.154163 ┆ A      │\n",
      "├╌╌╌╌╌╌┼╌╌╌╌╌╌╌┼╌╌╌╌╌╌╌╌╌╌┼╌╌╌╌╌╌╌╌┤\n",
      "│ 2    ┆ ham   ┆ 0.74     ┆ A      │\n",
      "├╌╌╌╌╌╌┼╌╌╌╌╌╌╌┼╌╌╌╌╌╌╌╌╌╌┼╌╌╌╌╌╌╌╌┤\n",
      "│ 3    ┆ spam  ┆ 0.263315 ┆ B      │\n",
      "├╌╌╌╌╌╌┼╌╌╌╌╌╌╌┼╌╌╌╌╌╌╌╌╌╌┼╌╌╌╌╌╌╌╌┤\n",
      "│ null ┆ egg   ┆ 0.533739 ┆ C      │\n",
      "├╌╌╌╌╌╌┼╌╌╌╌╌╌╌┼╌╌╌╌╌╌╌╌╌╌┼╌╌╌╌╌╌╌╌┤\n",
      "│ 5    ┆ null  ┆ 0.014575 ┆ B      │\n",
      "└──────┴───────┴──────────┴────────┘\n"
     ]
    }
   ],
   "source": [
    "np.random.seed(12)\n",
    "\n",
    "df = pl.DataFrame(\n",
    "    {\n",
    "        \"nrs\": [1, 2, 3, None, 5],\n",
    "        \"names\": [\"foo\", \"ham\", \"spam\", \"egg\", None],\n",
    "        \"random\": np.random.rand(5),\n",
    "        \"groups\": [\"A\", \"A\", \"B\", \"C\", \"B\"],\n",
    "    }\n",
    ")\n",
    "print(df)"
   ]
  },
  {
   "cell_type": "markdown",
   "id": "491e4196",
   "metadata": {},
   "source": [
    "Puedes hacer mucho con las expresiones, veamos algunos ejemplos:"
   ]
  },
  {
   "cell_type": "markdown",
   "id": "740aa766",
   "metadata": {},
   "source": [
    "## **Contar valores únicos**\n",
    "\n",
    "Podemos contar los valores únicos en una columna. Tenga en cuenta que estamos creando el mismo resultado de diferentes maneras. Para no tener nombres de columna duplicados en el DataFrame, usamos una expresión de `alias`, que cambia el nombre de una expresión."
   ]
  },
  {
   "cell_type": "code",
   "execution_count": 3,
   "id": "0e0c0c86",
   "metadata": {},
   "outputs": [
    {
     "name": "stdout",
     "output_type": "stream",
     "text": [
      "shape: (1, 2)\n",
      "┌────────────────┬────────────────┐\n",
      "│ unique_names_1 ┆ unique_names_2 │\n",
      "│ ---            ┆ ---            │\n",
      "│ u32            ┆ u32            │\n",
      "╞════════════════╪════════════════╡\n",
      "│ 5              ┆ 5              │\n",
      "└────────────────┴────────────────┘\n"
     ]
    }
   ],
   "source": [
    "out = df.select(\n",
    "    [\n",
    "        pl.col(\"names\").n_unique().alias(\"unique_names_1\"),\n",
    "        pl.col(\"names\").unique().count().alias(\"unique_names_2\"),\n",
    "    ]\n",
    ")\n",
    "print(out)"
   ]
  },
  {
   "cell_type": "markdown",
   "id": "9c342435",
   "metadata": {},
   "source": [
    "## **Agregaciones de varios tipos**\n",
    "Podemos hacer varias agregaciones. A continuación mostramos algunas de ellas, pero hay más, como `median`, `mean`, `first`, etc."
   ]
  },
  {
   "cell_type": "code",
   "execution_count": 4,
   "id": "c233bfd8",
   "metadata": {},
   "outputs": [
    {
     "name": "stdout",
     "output_type": "stream",
     "text": [
      "shape: (1, 6)\n",
      "┌──────────┬──────────┬──────┬───────────┬──────────┬──────────┐\n",
      "│ sum      ┆ min      ┆ max  ┆ other_max ┆ std dev  ┆ variance │\n",
      "│ ---      ┆ ---      ┆ ---  ┆ ---       ┆ ---      ┆ ---      │\n",
      "│ f64      ┆ f64      ┆ f64  ┆ f64       ┆ f64      ┆ f64      │\n",
      "╞══════════╪══════════╪══════╪═══════════╪══════════╪══════════╡\n",
      "│ 1.705842 ┆ 0.014575 ┆ 0.74 ┆ 0.74      ┆ 0.293209 ┆ 0.085971 │\n",
      "└──────────┴──────────┴──────┴───────────┴──────────┴──────────┘\n"
     ]
    }
   ],
   "source": [
    "out = df.select(\n",
    "    [\n",
    "        pl.sum(\"random\").alias(\"sum\"),\n",
    "        pl.min(\"random\").alias(\"min\"),\n",
    "        pl.max(\"random\").alias(\"max\"),\n",
    "        pl.col(\"random\").max().alias(\"other_max\"),\n",
    "        pl.std(\"random\").alias(\"std dev\"),\n",
    "        pl.var(\"random\").alias(\"variance\"),\n",
    "    ]\n",
    ")\n",
    "print(out)"
   ]
  },
  {
   "cell_type": "markdown",
   "id": "47cce9f6",
   "metadata": {},
   "source": [
    "## **Filtros y condicionales**\n",
    "También podemos hacer cosas bastante complejas. En el siguiente fragmento, contamos todos los nombres que terminan con la cadena `\"am\"`."
   ]
  },
  {
   "cell_type": "code",
   "execution_count": 5,
   "id": "d1a40571",
   "metadata": {},
   "outputs": [
    {
     "name": "stdout",
     "output_type": "stream",
     "text": [
      "shape: (1, 1)\n",
      "┌───────┐\n",
      "│ names │\n",
      "│ ---   │\n",
      "│ u32   │\n",
      "╞═══════╡\n",
      "│ 2     │\n",
      "└───────┘\n"
     ]
    }
   ],
   "source": [
    "out = df.select(\n",
    "    [\n",
    "        pl.col(\"names\").filter(pl.col(\"names\").str.contains(r\"am$\")).count(),\n",
    "    ]\n",
    ")\n",
    "print(out)"
   ]
  },
  {
   "cell_type": "markdown",
   "id": "5713ff9f",
   "metadata": {},
   "source": [
    "## **Funciones binarias y modificación**\n",
    "\n",
    "En el ejemplo a continuación, usamos un condicional para crear una nueva expresión `when -> then -> otherwise`. \n",
    "\n",
    "La función `when()` requiere una expresión de predicado (y, por lo tanto, conduce a una `serie booleana`), luego espera una expresión que se usará en caso de que el predicado se evalúe como verdadero y, de lo contrario, espera una expresión que se usará en caso de que el predicado se evalúe. \n",
    "\n",
    "Tenga en cuenta que puede pasar cualquier expresión, o simplemente expresiones base como `pl.col(\"foo\")`, `pl.lit(3)`, `pl.lit(\"bar\")`, etc.\n",
    "\n",
    "Finalmente, multiplicamos esto con el resultado de una expresión de suma."
   ]
  },
  {
   "cell_type": "code",
   "execution_count": 6,
   "id": "bbb6a491",
   "metadata": {},
   "outputs": [
    {
     "name": "stdout",
     "output_type": "stream",
     "text": [
      "shape: (5, 1)\n",
      "┌──────────┐\n",
      "│ literal  │\n",
      "│ ---      │\n",
      "│ f64      │\n",
      "╞══════════╡\n",
      "│ 1.695791 │\n",
      "├╌╌╌╌╌╌╌╌╌╌┤\n",
      "│ 0.0      │\n",
      "├╌╌╌╌╌╌╌╌╌╌┤\n",
      "│ 2.896465 │\n",
      "├╌╌╌╌╌╌╌╌╌╌┤\n",
      "│ 0.0      │\n",
      "├╌╌╌╌╌╌╌╌╌╌┤\n",
      "│ 0.160325 │\n",
      "└──────────┘\n"
     ]
    }
   ],
   "source": [
    "out = df.select(\n",
    "    [\n",
    "        pl.when(pl.col(\"random\") > 0.5).then(0).otherwise(pl.col(\"random\")) * pl.sum(\"nrs\"),\n",
    "    ]\n",
    ")\n",
    "print(out)"
   ]
  },
  {
   "cell_type": "markdown",
   "id": "71bc5b88",
   "metadata": {},
   "source": [
    "## **Expresiones de ventana**\n",
    "\n",
    "Una expresión polar también puede hacer un `GROUPBY`, `AGGREGATION` y `JOIN` implícitos en una sola expresión. \n",
    "\n",
    "En los ejemplos a continuación, hacemos un `GROUPBY` sobre `\"groups\"` y `AGREGATE SUM` de `\"random\"`, y en la siguiente expresión `GROUPBY OVER` `\"names\"` y `AGREGATE` una lista de `\"random\"`. Estas funciones de ventana se pueden combinar con otras expresiones y son una forma eficaz de determinar estadísticas de grupo. Vea más expresiones en el siguiente [link](https://pola-rs.github.io/polars/py-polars/html/reference/expression.html#aggregation)."
   ]
  },
  {
   "cell_type": "code",
   "execution_count": 7,
   "id": "6448e1e2",
   "metadata": {},
   "outputs": [
    {
     "name": "stdout",
     "output_type": "stream",
     "text": [
      "shape: (5, 6)\n",
      "┌──────┬───────┬──────────┬────────┬────────────────────┬─────────────┐\n",
      "│ nrs  ┆ names ┆ random   ┆ groups ┆ sum[random]/groups ┆ random/name │\n",
      "│ ---  ┆ ---   ┆ ---      ┆ ---    ┆ ---                ┆ ---         │\n",
      "│ i64  ┆ str   ┆ f64      ┆ str    ┆ f64                ┆ list [f64]  │\n",
      "╞══════╪═══════╪══════════╪════════╪════════════════════╪═════════════╡\n",
      "│ 1    ┆ foo   ┆ 0.154163 ┆ A      ┆ 0.894213           ┆ [0.154163]  │\n",
      "├╌╌╌╌╌╌┼╌╌╌╌╌╌╌┼╌╌╌╌╌╌╌╌╌╌┼╌╌╌╌╌╌╌╌┼╌╌╌╌╌╌╌╌╌╌╌╌╌╌╌╌╌╌╌╌┼╌╌╌╌╌╌╌╌╌╌╌╌╌┤\n",
      "│ 2    ┆ ham   ┆ 0.74     ┆ A      ┆ 0.894213           ┆ [0.74]      │\n",
      "├╌╌╌╌╌╌┼╌╌╌╌╌╌╌┼╌╌╌╌╌╌╌╌╌╌┼╌╌╌╌╌╌╌╌┼╌╌╌╌╌╌╌╌╌╌╌╌╌╌╌╌╌╌╌╌┼╌╌╌╌╌╌╌╌╌╌╌╌╌┤\n",
      "│ 3    ┆ spam  ┆ 0.263315 ┆ B      ┆ 0.2778             ┆ [0.263315]  │\n",
      "├╌╌╌╌╌╌┼╌╌╌╌╌╌╌┼╌╌╌╌╌╌╌╌╌╌┼╌╌╌╌╌╌╌╌┼╌╌╌╌╌╌╌╌╌╌╌╌╌╌╌╌╌╌╌╌┼╌╌╌╌╌╌╌╌╌╌╌╌╌┤\n",
      "│ null ┆ egg   ┆ 0.533739 ┆ C      ┆ 0.533739           ┆ [0.533739]  │\n",
      "├╌╌╌╌╌╌┼╌╌╌╌╌╌╌┼╌╌╌╌╌╌╌╌╌╌┼╌╌╌╌╌╌╌╌┼╌╌╌╌╌╌╌╌╌╌╌╌╌╌╌╌╌╌╌╌┼╌╌╌╌╌╌╌╌╌╌╌╌╌┤\n",
      "│ 5    ┆ null  ┆ 0.014575 ┆ B      ┆ 0.2778             ┆ [0.014575]  │\n",
      "└──────┴───────┴──────────┴────────┴────────────────────┴─────────────┘\n"
     ]
    }
   ],
   "source": [
    "out = df[\n",
    "    [\n",
    "        pl.col(\"*\"),  # select all\n",
    "        pl.col(\"random\").sum().over(\"groups\").alias(\"sum[random]/groups\"),\n",
    "        pl.col(\"random\").list().over(\"names\").alias(\"random/name\"),\n",
    "    ]\n",
    "]\n",
    "print(out)"
   ]
  },
  {
   "cell_type": "markdown",
   "id": "3098268d",
   "metadata": {},
   "source": [
    "# **GroupBy**\n",
    "\n",
    "### Un enfoque multiproceso\n",
    "\n",
    "Una de las formas más eficientes de procesar datos tabulares es paralelizar su procesamiento a través del enfoque \"dividir-aplicar-combinar\". Esta operación es el núcleo de la implementación del agrupamiento de *Polars*, lo que le permite lograr operaciones ultrarrápidas. Más específicamente, las fases de \"división\" y \"aplicación\" se ejecutan de forma multiproceso.\n",
    "\n",
    "Una operación de agrupación simple se toma a continuación como ejemplo para ilustrar este enfoque:\n",
    "\n",
    "![](https://raw.githubusercontent.com/fralfaro/portfolio/main/docs/blog/posts/images/polars/polar_split.PNG)\n",
    "Para las operaciones hash realizadas durante la fase de \"división\", Polars utiliza un enfoque sin bloqueo de subprocesos múltiples que se ilustra en el siguiente esquema:\n",
    "\n",
    "![](https://raw.githubusercontent.com/fralfaro/portfolio/main/docs/blog/posts/images/polars/polar_multi.PNG)\n",
    "¡Esta paralelización permite que las operaciones de agrupación y unión (por ejemplo) sean increíblemente rápidas!"
   ]
  },
  {
   "cell_type": "markdown",
   "id": "e8a3be4f",
   "metadata": {},
   "source": [
    "### **¡Paralelización!**\n",
    "\n",
    "Todos hemos escuchado que *Python* es lento y \"no escala\". Además de la sobrecarga de ejecutar el código de bytes \"lento\", Python debe permanecer dentro de las restricciones del [Global interpreter lock (GIL)](https://realpython.com/python-gil/). Esto significa que si se usa la operación `lambda` o una función de Python personalizada para aplicar durante una fase de paralelización, la velocidad de *Polars* se limita al ejecutar el código de *Python*, lo que evita que varios subprocesos ejecuten la función.\n",
    "\n",
    "Todo esto se siente terriblemente limitante, especialmente porque a menudo necesitamos esos `lambda` en un paso  `.groupby()`, por ejemplo. Este enfoque aún es compatible con *Polars*, pero teniendo en cuenta el código de bytes Y el precio `GIL` deben pagarse.\n",
    "\n",
    "Para mitigar esto, *Polars* implementa una poderosa sintaxis definida no solo en su `lazy`, sino también en su uso `eager`.\n",
    "He decidido dividir esta entrada en 2 partes para que este más o menos ordenada:\n",
    "\n",
    "# [Continuación parte 2](parte-2\\parte-2-polars.ipynb)\n"
   ]
  },
  {
   "cell_type": "markdown",
   "id": "a1db0ac2",
   "metadata": {},
   "source": []
  }
 ],
 "metadata": {
  "kernelspec": {
   "display_name": "Python 3",
   "language": "python",
   "name": "python3"
  },
  "language_info": {
   "codemirror_mode": {
    "name": "ipython",
    "version": 3
   },
   "file_extension": ".py",
   "mimetype": "text/x-python",
   "name": "python",
   "nbconvert_exporter": "python",
   "pygments_lexer": "ipython3",
   "version": "3.8.10"
  },
  "vscode": {
   "interpreter": {
    "hash": "8bb49ada1c49af35e8d68aa4f21a32c70a905f8c89742e7f0056ae28466ec816"
   }
  }
 },
 "nbformat": 4,
 "nbformat_minor": 5
}

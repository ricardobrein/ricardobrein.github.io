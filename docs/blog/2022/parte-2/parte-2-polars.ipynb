{
 "cells": [
  {
   "cell_type": "markdown",
   "metadata": {},
   "source": [
    "### **Expresiones polares en porfundidad**\n",
    "\n",
    "[En la introducción anterior](../intro-to-polars.ipynb), si no sabes cómo empezar te recomiendo leerlo, o empieza por [Pandas]() \n",
    "\n",
    "Hablamos también de *que el uso de funciones personalizadas de Python eliminaba la paralelización* y que `podemos usar las expresiones de la API para mitigar esto`. \n",
    "\n",
    "**Veámos que es lo que eso signifíca.**\n",
    "\n",
    "Comencemos con el conjunto de datos del [congreso de EE. UU.](https://github.com/unitedstates/congress-legislators)"
   ]
  },
  {
   "cell_type": "code",
   "execution_count": 70,
   "metadata": {},
   "outputs": [
    {
     "name": "stdout",
     "output_type": "stream",
     "text": [
      "<bound method DataFrame.describe of shape: (541, 36)\n",
      "┌───────────┬────────────┬────────────┬────────┬───┬────────────┬───────────┬──────────┬───────────┐\n",
      "│ last_name ┆ first_name ┆ middle_nam ┆ suffix ┆ … ┆ ballotpedi ┆ washingto ┆ icpsr_id ┆ wikipedia │\n",
      "│ ---       ┆ ---        ┆ e          ┆ ---    ┆   ┆ a_id       ┆ n_post_id ┆ ---      ┆ _id       │\n",
      "│ str       ┆ str        ┆ ---        ┆ str    ┆   ┆ ---        ┆ ---       ┆ i64      ┆ ---       │\n",
      "│           ┆            ┆ str        ┆        ┆   ┆ str        ┆ str       ┆          ┆ str       │\n",
      "╞═══════════╪════════════╪════════════╪════════╪═══╪════════════╪═══════════╪══════════╪═══════════╡\n",
      "│ Brown     ┆ Sherrod    ┆ null       ┆ null   ┆ … ┆ Sherrod    ┆ null      ┆ 29389    ┆ Sherrod   │\n",
      "│           ┆            ┆            ┆        ┆   ┆ Brown      ┆           ┆          ┆ Brown     │\n",
      "│ Cantwell  ┆ Maria      ┆ null       ┆ null   ┆ … ┆ Maria      ┆ null      ┆ 39310    ┆ Maria     │\n",
      "│           ┆            ┆            ┆        ┆   ┆ Cantwell   ┆           ┆          ┆ Cantwell  │\n",
      "│ Cardin    ┆ Benjamin   ┆ L.         ┆ null   ┆ … ┆ Ben Cardin ┆ null      ┆ 15408    ┆ Ben       │\n",
      "│           ┆            ┆            ┆        ┆   ┆            ┆           ┆          ┆ Cardin    │\n",
      "│ Carper    ┆ Thomas     ┆ Richard    ┆ null   ┆ … ┆ Tom Carper ┆ null      ┆ 15015    ┆ Tom       │\n",
      "│           ┆            ┆            ┆        ┆   ┆            ┆           ┆          ┆ Carper    │\n",
      "│ …         ┆ …          ┆ …          ┆ …      ┆ … ┆ …          ┆ …         ┆ …        ┆ …         │\n",
      "│ Van Orden ┆ Derrick    ┆ Francis    ┆ null   ┆ … ┆ Derrick    ┆ null      ┆ null     ┆ Derrick   │\n",
      "│           ┆            ┆            ┆        ┆   ┆ Van Orden  ┆           ┆          ┆ Van Orden │\n",
      "│ Hageman   ┆ Harriet    ┆ Maxine     ┆ null   ┆ … ┆ Harriet    ┆ null      ┆ null     ┆ Harriet   │\n",
      "│           ┆            ┆            ┆        ┆   ┆ Hageman    ┆           ┆          ┆ Hageman   │\n",
      "│ Ricketts  ┆ Pete       ┆ null       ┆ null   ┆ … ┆ Pete       ┆ null      ┆ null     ┆ Pete      │\n",
      "│           ┆            ┆            ┆        ┆   ┆ Ricketts   ┆           ┆          ┆ Ricketts  │\n",
      "│ McClellan ┆ Jennifer   ┆ null       ┆ null   ┆ … ┆ Jennifer   ┆ null      ┆ null     ┆ Jennifer  │\n",
      "│           ┆            ┆            ┆        ┆   ┆ McClellan  ┆           ┆          ┆ McClellan │\n",
      "└───────────┴────────────┴────────────┴────────┴───┴────────────┴───────────┴──────────┴───────────┘>\n",
      "['last_name', 'first_name', 'middle_name', 'suffix', 'nickname', 'full_name', 'birthday', 'gender', 'type', 'state', 'district', 'senate_class', 'party', 'url', 'address', 'phone', 'contact_form', 'rss_url', 'twitter', 'twitter_id', 'facebook', 'youtube', 'youtube_id', 'mastodon', 'bioguide_id', 'thomas_id', 'opensecrets_id', 'lis_id', 'fec_ids', 'cspan_id', 'govtrack_id', 'votesmart_id', 'ballotpedia_id', 'washington_post_id', 'icpsr_id', 'wikipedia_id']\n"
     ]
    }
   ],
   "source": [
    "import polars as pl\n",
    "\n",
    "# Lee el archivo CSV\n",
    "df = pl.read_csv('../data/legislators-current.csv')\n",
    "\n",
    "# Muestra las primeras filas del DataFrame\n",
    "print(df.describe)\n",
    "print(df.columns)\n"
   ]
  },
  {
   "cell_type": "code",
   "execution_count": 16,
   "metadata": {},
   "outputs": [
    {
     "data": {
      "text/html": [
       "<div><style>\n",
       ".dataframe > thead > tr > th,\n",
       ".dataframe > tbody > tr > td {\n",
       "  text-align: right;\n",
       "  white-space: pre-wrap;\n",
       "}\n",
       "</style>\n",
       "<small>shape: (4, 4)</small><table border=\"1\" class=\"dataframe\"><thead><tr><th>a</th><th>b</th><th>c</th><th>a^2</th></tr><tr><td>i64</td><td>f64</td><td>bool</td><td>f64</td></tr></thead><tbody><tr><td>1</td><td>0.5</td><td>true</td><td>1.0</td></tr><tr><td>2</td><td>4.0</td><td>true</td><td>4.0</td></tr><tr><td>3</td><td>10.0</td><td>false</td><td>9.0</td></tr><tr><td>4</td><td>13.0</td><td>true</td><td>16.0</td></tr></tbody></table></div>"
      ],
      "text/plain": [
       "shape: (4, 4)\n",
       "┌─────┬──────┬───────┬──────┐\n",
       "│ a   ┆ b    ┆ c     ┆ a^2  │\n",
       "│ --- ┆ ---  ┆ ---   ┆ ---  │\n",
       "│ i64 ┆ f64  ┆ bool  ┆ f64  │\n",
       "╞═════╪══════╪═══════╪══════╡\n",
       "│ 1   ┆ 0.5  ┆ true  ┆ 1.0  │\n",
       "│ 2   ┆ 4.0  ┆ true  ┆ 4.0  │\n",
       "│ 3   ┆ 10.0 ┆ false ┆ 9.0  │\n",
       "│ 4   ┆ 13.0 ┆ true  ┆ 16.0 │\n",
       "└─────┴──────┴───────┴──────┘"
      ]
     },
     "execution_count": 16,
     "metadata": {},
     "output_type": "execute_result"
    }
   ],
   "source": [
    "df = pl.DataFrame(\n",
    "    {\n",
    "        \"a\": [1, 2, 3, 4],\n",
    "        \"b\": [0.5, 4, 10, 13],\n",
    "        \"c\": [True, True, False, True],\n",
    "    }\n",
    ")\n",
    "df.with_columns((pl.col(\"a\") ** 2).alias(\"a^2\"))"
   ]
  },
  {
   "cell_type": "markdown",
   "metadata": {},
   "source": [
    "```python\n",
    "dataset = pl.read_csv(\"legislators-current.csv\")\n",
    "\n",
    "print(dataset.head())\n",
    "```\n",
    "### **Agregaciones básicas**\n",
    "Puede combinar fácilmente diferentes agregaciones agregando varias expresiones en una lista. No hay un límite superior en el número de agregaciones que puede hacer y puede hacer cualquier combinación que desee. En el fragmento a continuación, hacemos las siguientes agregaciones:\n",
    "\n",
    "Por grupo `\"first_name\"`:\n",
    "\n",
    "* cuente el número de filas en el grupo:\n",
    "    * forma abreviada: `pl.count(\"party\")`\n",
    "    * forma completa: `pl.col(\"party\").count()`\n",
    "* agregue el grupo de valores de género a una lista:\n",
    "    * forma completa: `pl.col(\"gender\").list()`\n",
    "* obtenga el primer valor de la columna `\"last_name\"` en el grupo:\n",
    "    * forma abreviada: `pl.primero(\"last_name\")`\n",
    "    * forma completa: `pl.col(\"last_name\").first()`\n",
    "\n",
    "Además de la agregación, clasificamos inmediatamente el resultado y lo limitamos a los 5 principales para que tengamos un buen resumen general.\n",
    "q = (\n",
    "    dataset.lazy()\n",
    "    .groupby(\"first_name\")\n",
    "    .agg(\n",
    "        [\n",
    "            pl.count(),\n",
    "            pl.col(\"gender\").list(),\n",
    "            pl.first(\"last_name\"),\n",
    "        ]\n",
    "    )\n",
    "    .sort(\"count\", reverse=True)\n",
    "    .limit(5)\n",
    ")\n",
    "\n",
    "df = q.collect()\n",
    "print(df)"
   ]
  },
  {
   "cell_type": "code",
   "execution_count": 18,
   "metadata": {},
   "outputs": [
    {
     "data": {
      "text/html": [
       "col(\"party\").count()"
      ],
      "text/plain": [
       "<polars.expr.expr.Expr at 0x12565927340>"
      ]
     },
     "execution_count": 18,
     "metadata": {},
     "output_type": "execute_result"
    }
   ],
   "source": [
    "pl.col(\"party\").count()"
   ]
  },
  {
   "cell_type": "markdown",
   "metadata": {},
   "source": [
    "### **Condicionales**\n",
    "\n",
    "*Ok, es fué muy fácil*, ¿verdad? Next level. Digamos que queremos saber cuántos legisladores de un \"estado\" (`state`) son del partido \"Democrat\" o \"Republican\". Podríamos consultarlo directamente en la agregación sin la necesidad de `lambda` o arreglar el DataFrame.\n",
    "\n",
    "```python\n",
    "q = (\n",
    "    dataset.lazy()\n",
    "    .groupby(\"state\")\n",
    "    .agg(\n",
    "        [\n",
    "            (pl.col(\"party\") == \"Democrat\").sum().alias(\"demo\"),\n",
    "            (pl.col(\"party\") == \"Republican\").sum().alias(\"repu\"),\n",
    "        ]\n",
    "    )\n",
    "    .sort(\"demo\", reverse=True)\n",
    "    .limit(5)\n",
    ")\n",
    "```\n",
    "\n",
    "```df = q.collect()\n",
    "print(df)\n",
    "\n",
    "```\n",
    "\n",
    "> ✅Por supuesto, también se podría hacer algo similar con un `GROUPBY` anidado, pero eso no me permitiría mostrar estas características agradables. \n",
    "\n",
    "```python\n",
    "q = (\n",
    "    dataset.lazy()\n",
    "    .groupby([\"state\", \"party\"])\n",
    "    .agg([pl.count(\"party\").alias(\"count\")])\n",
    "    .filter((pl.col(\"party\") == \"Democrat\") | (pl.col(\"party\") == \"Republican\"))\n",
    "    .sort(\"count\", reverse=True)\n",
    "    .limit(5)\n",
    ")\n",
    "```\n",
    "\n",
    "```\n",
    "df = q.collect()\n",
    "print(df)\n",
    "```\n",
    "\n",
    "### **Filtración de datos**\n",
    "También podemos filtrar los grupos. Digamos que queremos calcular una media por grupo, pero no queremos incluir todos los valores de ese grupo y tampoco queremos filtrar las filas del `DataFrame` (porque necesitamos esas filas para otra agregación).\n",
    "\n",
    "En el siguiente ejemplo, mostramos cómo se puede hacer eso. Tenga en cuenta que podemos hacer funciones de *Python* para mayor claridad. Estas funciones no nos cuestan nada. Esto se debe a que solo creamos `Polars expression`, no aplicamos una función personalizada sobre `Series` durante el tiempo de ejecución de la consulta.\n",
    "from datetime import date\n",
    "\n",
    "```python\n",
    "def compute_age() -> pl.Expr:\n",
    "    return date(2021, 1, 1).year - pl.col(\"birthday\").dt.year()\n",
    "```\n",
    "\n",
    "\n",
    "```python\n",
    "def avg_birthday(gender: str) -> pl.Expr:\n",
    "    return compute_age().filter(pl.col(\"gender\") == gender).mean().alias(f\"avg {gender} birthday\")\n",
    "```\n",
    "\n",
    "```python\n",
    "q = (\n",
    "    dataset.lazy()\n",
    "    .groupby([\"state\"])\n",
    "    .agg(\n",
    "        [\n",
    "            avg_birthday(\"M\"),\n",
    "            avg_birthday(\"F\"),\n",
    "            (pl.col(\"gender\") == \"M\").sum().alias(\"# male\"),\n",
    "            (pl.col(\"gender\") == \"F\").sum().alias(\"# female\"),\n",
    "        ]\n",
    "    )\n",
    "    .limit(5)\n",
    ")\n",
    "```\n",
    "\n",
    "```python\n",
    "df = q.collect()\n",
    "print(df)\n",
    "```\n",
    "\n",
    "### **Sorting | Ordenación**\n",
    "A menudo veo que se ordena un DataFrame con el único propósito de ordenar durante la operación `GROUPBY`. Digamos que queremos obtener los nombres de los políticos más antiguos y más jóvenes (no es que todavía estén vivos) por estado, podríamos `ORDENAR` y `AGRUPAR`.\n",
    "def get_person() -> pl.Expr:\n",
    "    return pl.col(\"first_name\") + pl.lit(\" \") + pl.col(\"last_name\")\n",
    "\n",
    "\n",
    "```python\n",
    "q = (\n",
    "    dataset.lazy()\n",
    "    .sort(\"birthday\")\n",
    "    .groupby([\"state\"])\n",
    "    .agg(\n",
    "        [\n",
    "            get_person().first().alias(\"youngest\"),\n",
    "            get_person().last().alias(\"oldest\"),\n",
    "        ]\n",
    "    )\n",
    "    .limit(5)\n",
    ")\n",
    "\n",
    "df = q.collect()\n",
    "```\n",
    "```python\n",
    "print(df)\n",
    "\n",
    "```\n",
    "\n",
    "## Referencias\n",
    "\n",
    "* [Polars - User Guide](https://pola-rs.github.io/polars-book/getting-started/installation/)\n",
    "* [Polars - Github](https://github.com/pola-rs/polars)"
   ]
  },
  {
   "cell_type": "markdown",
   "metadata": {},
   "source": []
  }
 ],
 "metadata": {
  "kernelspec": {
   "display_name": "Python 3",
   "language": "python",
   "name": "python3"
  },
  "language_info": {
   "codemirror_mode": {
    "name": "ipython",
    "version": 3
   },
   "file_extension": ".py",
   "mimetype": "text/x-python",
   "name": "python",
   "nbconvert_exporter": "python",
   "pygments_lexer": "ipython3",
   "version": "3.10.11"
  },
  "orig_nbformat": 4
 },
 "nbformat": 4,
 "nbformat_minor": 2
}

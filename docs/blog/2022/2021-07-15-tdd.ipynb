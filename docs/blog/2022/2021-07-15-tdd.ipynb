{
 "cells": [
  {
   "cell_type": "markdown",
   "id": "67050592",
   "metadata": {},
   "source": [
    "# TDD ✅ Una introdución al Test Driven development.\n",
    "\n",
    "## Introducción\n",
    "El objetivo de este blog es hacerles una introduccion al desarrollo basado en pruebas aplicado a Data Science usando *Test Driven Development*, esta técnica es muy usada en otras aréas de programacion.\n",
    "\n",
    "### ¿Qué es el *Test Driven Development*?\n",
    "En palabras simples, el desarrollo guiado por pruebas pone las pruebas en el corazón de nuestro trabajo. En su forma más simple consiste en un proceso iterativo de 3 fases:\n",
    "\n",
    "![](https://github.com/ricardobrein/ricardobrein.github.io/blob/d87d1085d789d9cbfa4ece23a5379e68c66c319c/docs/images/tdd.png)\n",
    "\n",
    "\n",
    "\n",
    "- **Red**: Escribe un test que ponga a prueba una nueva funcionalidad y asegurate de que el test falla\n",
    "- **Green**: Escribe el código mínimo necesario para pasar ese test\n",
    "- **Refactor**: Refactoriza de ser necesario"
   ]
  },
  {
   "cell_type": "markdown",
   "id": "5e72c1b0",
   "metadata": {},
   "source": [
    "### Ejemplo sencillo\n",
    "\n",
    "A modo de ejemplo, vamos a testear la función `paridad`, que determina si un número natural es par o no.\n",
    "\n",
    "Lo primero que se debe hacer es crear el test, para ello utilizaremos la librería [pytest](https://docs.pytest.org/en/6.2.x/). \n",
    "\n",
    "> **Nota**: No es necesario conocer previamente la librería `pytest` para entender el ejemplo."
   ]
  },
  {
   "cell_type": "markdown",
   "id": "ba01cb61",
   "metadata": {},
   "source": [
    "```python\n",
    "@pytest.mark.parametrize(\n",
    "    \"number, expected\",\n",
    "    [\n",
    "        (2, 'par'),\n",
    "])\n",
    "def test_paridad(number, expected):\n",
    "    assert paridad(number) == expected\n",
    "```"
   ]
  },
  {
   "cell_type": "markdown",
   "id": "a8898752",
   "metadata": {},
   "source": [
    "Ahora, se escribe la función `paridad` (**fase green**):\n",
    "\n",
    "```python\n",
    "def paridad(n:int)->str:\n",
    "    \"\"\"\n",
    "    Determina si un numero natural es par o no.\n",
    "    \n",
    "    :param n: numero entero\n",
    "    :return: 'par' si es el numero es par; 'impar' en otro caso\n",
    "    \"\"\"\n",
    "    return 'par' if n%2==0 else 'impar'\n",
    "```\n"
   ]
  },
  {
   "cell_type": "markdown",
   "id": "b456db1f",
   "metadata": {},
   "source": [
    "Hemos cometido un descuido a proposito, no hemos testeado el caso si el número fuese impar, por lo cual reescribimos el test (**fase refactor**)\n",
    "\n",
    "```python\n",
    "@pytest.mark.parametrize(\n",
    "    \"number, expected\",\n",
    "    [\n",
    "        (2, 'par'),\n",
    "        (3, 'impar'),\n",
    "])\n",
    "def test_paridad(number, expected):\n",
    "    assert paridad(number) == expected\n",
    "```"
   ]
  },
  {
   "cell_type": "markdown",
   "id": "12cfbe3a",
   "metadata": {},
   "source": [
    "## ¿Porqué debería usarlo?\n",
    "\n",
    "Existen varias razones por las que uno debería usar TDD. Entre ellas podemos encontrar:\n",
    "- Formular bien nuestros pensamientos mediante la escritura de un test significativo antes de ponernos a solucionar el problema nos ayuda a clarificar los límites del problema y cómo podemos resolverlo. Con el tiempo esto ayuda a obtener un diseño modular y reusable del código.\n",
    "- Escribir tests ayuda la forma en que escribimos código, haciéndolo más legible a otros. Sin embargo, no es un acto de altruismo, la mayoría de las veces ese otro es tu futuro yo.\n",
    "- Verifica que el código funciona de la manera que se espera, y lo hace de forma automática.\n",
    "- Te permite realizar *refactoring* con la certeza de que no has roto nada.\n",
    "- Los tests escritos sirven como documentación para otros desarrolladores.\n",
    "- Es una práctica **requerida** en metodologías de desarrollo de software *agile*."
   ]
  },
  {
   "cell_type": "markdown",
   "id": "ecd67af1",
   "metadata": {},
   "source": [
    "## Evidencia empírica\n",
    "El 2008, Nagappan, Maximilien, Bhat y Williams publicaron el paper llamado [Realizing Quality Improvement Through Test Driven Development - Results and Experiences of Four Industrial Teams](https://www.microsoft.com/en-us/research/wp-content/uploads/2009/10/Realizing-Quality-Improvement-Through-Test-Driven-Development-Results-and-Experiences-of-Four-Industrial-Teams-nagappan_tdd.pdf), en donde estudiaron 4 equipos de trabajo (3 de Microsoft y 1 de IBM), con proyectos que variaban entre las 6000 lineas de código hasta las 155k. Estas son parte de sus conclusiones:\n",
    "\n",
    "> Todos los equipos demostraron una baja considerable en la densidad de defectos: 40% para el equipo de IBM, y entre 60-90% para los equipos de Microsoft."
   ]
  },
  {
   "cell_type": "markdown",
   "id": "07453cdf",
   "metadata": {},
   "source": [
    "Como todo en la vida, nada es gratis:\n",
    "\n",
    "> ⏱️Incremento del tiempo de desarrollo varía entre un 15% a 35%."
   ]
  },
  {
   "cell_type": "markdown",
   "id": "d69dfa27",
   "metadata": {},
   "source": [
    "**Sin embargo...**\n",
    "\n",
    "> Desde un punto de vista de eficacia este incremento en tiempo de desarrollo se compensa por los costos de mantención reducidos debido al incremento en calidad."
   ]
  },
  {
   "cell_type": "markdown",
   "id": "6d11bc23",
   "metadata": {},
   "source": [
    "## ¿Puedo usar TDD siempre?\n",
    "No, pero puedes usarlo casi siempre. El análisis exploratorio es un caso en que el uso de TDD no hace sentido. Una vez que tenemos definido el problema a solucionar y un mejor entendimiento del problema podemos aterrizar nuestras ideas a la implementación vía testing.\n",
    "\n",
    "## Librerías disponibles\n",
    "Acá listamos algunas librerías de TDD en Python:\n",
    "- [unittest](https://docs.python.org/3/library/unittest.html): Módulo dentro de la librería estándar de Python. Permite realizar tests unitarios, de integración y ent-to-end.\n",
    "- [doctest](https://docs.python.org/3/library/doctest.html): Permite realizar test de la documentación del código (ejemplos: [Numpy](http://www.numpy.org/) o [Pandas](https://pandas.pydata.org/)).\n",
    "- [pytest](https://docs.pytest.org/en/latest/): Librería de testing ampliamente usada en proyectos nuevos de Python.\n",
    "- [nose](https://nose.readthedocs.io/en/latest/): Librería que extiende unittest para hacerlo más simple.\n",
    "- [coverage](https://coverage.readthedocs.io/en/v4.5.x/): Herramienta para medir la [cobertura de código](https://es.wikipedia.org/wiki/Cobertura_de_c%C3%B3digo) de los proyectos.\n",
    "- [🌟 highly recommended: tox](https://tox.readthedocs.io/en/latest/): Herramienta para facilitar el test de una librería en diferentes versiones e intérpretes de Python.\n",
    "- [hypothesis](https://hypothesis.readthedocs.io/en/latest/): Librería para escribir tests vía reglas que ayuda a encontrar casos borde.\n",
    "- [Behavior Driven Development](https://es.wikipedia.org/wiki/Desarrollo_guiado_por_comportamiento), un proceso de desarrollo derivado del TDD."
   ]
  },
  {
   "cell_type": "markdown",
   "id": "1d24d7d7",
   "metadata": {},
   "source": []
  }
 ],
 "metadata": {
  "kernelspec": {
   "display_name": "Python 3.8.10 64-bit",
   "language": "python",
   "name": "python3"
  },
  "language_info": {
   "codemirror_mode": {
    "name": "ipython",
    "version": 3
   },
   "file_extension": ".py",
   "mimetype": "text/x-python",
   "name": "python",
   "nbconvert_exporter": "python",
   "pygments_lexer": "ipython3",
   "version": "3.8.10"
  },
  "vscode": {
   "interpreter": {
    "hash": "8bb49ada1c49af35e8d68aa4f21a32c70a905f8c89742e7f0056ae28466ec816"
   }
  }
 },
 "nbformat": 4,
 "nbformat_minor": 5
}
